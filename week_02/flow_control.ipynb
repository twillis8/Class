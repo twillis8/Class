{
 "cells": [
  {
   "cell_type": "markdown",
   "id": "bcc0901e-e8f0-4fb3-b582-621fc87aa052",
   "metadata": {},
   "source": [
    "# Loops and Function"
   ]
  },
  {
   "cell_type": "code",
   "execution_count": 1,
   "id": "8cfaad6d-428f-4ebd-a911-e370d5ebef1e",
   "metadata": {},
   "outputs": [
    {
     "name": "stdout",
     "output_type": "stream",
     "text": [
      "b is greater\n"
     ]
    }
   ],
   "source": [
    "# loops are flow control. They change how data moves through the application.\n",
    "# ii ... elif ... else\n",
    "#if a equals b, return \"they are equal\". If a > b, return \"a is greater.\" if b > a, return \"b is greater.'\n",
    "a = 4\n",
    "b = 7\n",
    "\n",
    "if a == b:\n",
    "    print(\"they are equal\")\n",
    "elif a>b:\n",
    "    print(\"a is greater\")\n",
    "elif b>a:\n",
    "    print(\"b is greater\")"
   ]
  },
  {
   "cell_type": "code",
   "execution_count": 2,
   "id": "6dd688c3-e987-464f-92fe-41bafefecd7c",
   "metadata": {},
   "outputs": [
    {
     "name": "stdout",
     "output_type": "stream",
     "text": [
      "7\n",
      "6\n"
     ]
    }
   ],
   "source": [
    "# while loops\n",
    "# repeatedly test an expression and continue to run whatever is in the loop, until a stoping condition is met\n",
    "x = 7\n",
    "while x > 5:\n",
    "    print(x)\n",
    "    #decrement our x so it can stop\n",
    "    # x = x - 1\n",
    "    x -=1"
   ]
  },
  {
   "cell_type": "code",
   "execution_count": 3,
   "id": "d7179429-cbfc-4245-9b8a-24a64e2e4802",
   "metadata": {},
   "outputs": [
    {
     "name": "stdout",
     "output_type": "stream",
     "text": [
      "3\n",
      "4\n",
      "5\n",
      "6\n",
      "7\n",
      "8\n",
      "9\n"
     ]
    }
   ],
   "source": [
    "#create a scenario where x starts at 3 and is incremented by 1, you print the value of x while x is less than 10\n",
    "x = 3\n",
    "while x < 10:\n",
    "    print(x)\n",
    "    x = x + 1"
   ]
  },
  {
   "cell_type": "code",
   "execution_count": 4,
   "id": "4606f5c2-2df9-47bc-a1ad-2d120a1f3ac6",
   "metadata": {},
   "outputs": [
    {
     "name": "stdout",
     "output_type": "stream",
     "text": [
      "Dexter\n",
      "Pharoah\n",
      "Oreo\n",
      "Mitas\n",
      "Enzo\n",
      "Warmonger\n"
     ]
    }
   ],
   "source": [
    "# for loops\n",
    "cats = [\"Dexter\",\"Pharoah\",\"Oreo\",\"Mitas\",\"Enzo\",\"Warmonger\"]\n",
    "for cat in cats:\n",
    "    print(cat)"
   ]
  },
  {
   "cell_type": "code",
   "execution_count": 5,
   "id": "2e8e2a84-8a7c-4e90-b9b8-458d37ecdb26",
   "metadata": {},
   "outputs": [
    {
     "name": "stdout",
     "output_type": "stream",
     "text": [
      "2\n",
      "4\n",
      "6\n",
      "8\n"
     ]
    }
   ],
   "source": [
    "# range(start,stop[,step])\n",
    "for r in range(2,10,2):\n",
    "    print(r)"
   ]
  },
  {
   "cell_type": "code",
   "execution_count": 6,
   "id": "afd9e91e-bb9a-401a-b76f-00a0b84de624",
   "metadata": {},
   "outputs": [],
   "source": [
    "# functions\n",
    "# functions let us encapsulate chunks of code that we might want to use again\n",
    "def comparing(a,b):\n",
    "    if a == b:\n",
    "        print(\"they are equal\")\n",
    "    elif a>b:\n",
    "        print(\"a is greater\")\n",
    "    elif b>a:\n",
    "        print(\"b is greater\")"
   ]
  },
  {
   "cell_type": "code",
   "execution_count": 7,
   "id": "92be40c5-df48-4149-acbe-f4755b0c4728",
   "metadata": {},
   "outputs": [
    {
     "name": "stdout",
     "output_type": "stream",
     "text": [
      "a is greater\n"
     ]
    }
   ],
   "source": [
    "comparing(46,10)"
   ]
  },
  {
   "cell_type": "code",
   "execution_count": null,
   "id": "f406ecf7-7555-4fcc-9158-a98d0ef02649",
   "metadata": {},
   "outputs": [],
   "source": []
  }
 ],
 "metadata": {
  "kernelspec": {
   "display_name": "Python 3 (ipykernel)",
   "language": "python",
   "name": "python3"
  },
  "language_info": {
   "codemirror_mode": {
    "name": "ipython",
    "version": 3
   },
   "file_extension": ".py",
   "mimetype": "text/x-python",
   "name": "python",
   "nbconvert_exporter": "python",
   "pygments_lexer": "ipython3",
   "version": "3.9.1"
  }
 },
 "nbformat": 4,
 "nbformat_minor": 5
}
