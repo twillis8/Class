{
 "cells": [
  {
   "cell_type": "code",
   "execution_count": 1,
   "id": "6103d1d0-0503-4672-8e5f-651d0d03d56d",
   "metadata": {},
   "outputs": [],
   "source": [
    "x = 5 #integer\n",
    "y = 5.0 #float \n",
    "\n"
   ]
  },
  {
   "cell_type": "code",
   "execution_count": 2,
   "id": "cbf6e4f8-05ff-467c-a368-85552581217b",
   "metadata": {},
   "outputs": [
    {
     "name": "stdout",
     "output_type": "stream",
     "text": [
      "5\n"
     ]
    }
   ],
   "source": [
    "print(x)"
   ]
  },
  {
   "cell_type": "code",
   "execution_count": 4,
   "id": "45fd99f7-2939-4786-8128-cbe7fe9c7034",
   "metadata": {},
   "outputs": [
    {
     "name": "stdout",
     "output_type": "stream",
     "text": [
      "<class 'int'>\n"
     ]
    }
   ],
   "source": [
    "print(type(x))"
   ]
  },
  {
   "cell_type": "code",
   "execution_count": 5,
   "id": "f943c8b4-1ef6-4697-bb45-6d0c2d875e4e",
   "metadata": {},
   "outputs": [
    {
     "name": "stdout",
     "output_type": "stream",
     "text": [
      "<class 'float'>\n"
     ]
    }
   ],
   "source": [
    "print(type(y))"
   ]
  },
  {
   "cell_type": "code",
   "execution_count": 6,
   "id": "17d68e48-e730-449e-ac5c-cf1f591ed154",
   "metadata": {},
   "outputs": [],
   "source": [
    "# Dictionaries are key:value pairs\n",
    "breakfast = {\"waffles\":40,\n",
    "             \"eggs\":60,\n",
    "             \"cereal\":1}"
   ]
  },
  {
   "cell_type": "code",
   "execution_count": 7,
   "id": "1f8fa214-e1a5-4114-8dff-f749b2c34056",
   "metadata": {},
   "outputs": [
    {
     "name": "stdout",
     "output_type": "stream",
     "text": [
      "60\n"
     ]
    }
   ],
   "source": [
    "print(breakfast[\"eggs\"])"
   ]
  },
  {
   "cell_type": "code",
   "execution_count": 9,
   "id": "dff1a1ba-c92f-4d73-92aa-35c437a31f03",
   "metadata": {},
   "outputs": [
    {
     "data": {
      "text/plain": [
       "bool"
      ]
     },
     "execution_count": 9,
     "metadata": {},
     "output_type": "execute_result"
    }
   ],
   "source": [
    "# Booleans are true or false values\n",
    "is_true = False\n",
    "type(is_true)"
   ]
  },
  {
   "cell_type": "code",
   "execution_count": 12,
   "id": "adb9bf1d-26e9-444f-81bd-8edeeb93e135",
   "metadata": {},
   "outputs": [
    {
     "name": "stdout",
     "output_type": "stream",
     "text": [
      "{'coffee', 'eggs', 'bacon'}\n"
     ]
    }
   ],
   "source": [
    "# Sets have unordered values and unchangeable values (immutable)\n",
    "breakfast_set = {\"eggs\",\"bacon\"}\n",
    "# Sets cannot have duplicates, so you cannot add something thats already there\n",
    "breakfast_set.add(\"coffee\")\n",
    "print(breakfast_set)"
   ]
  },
  {
   "cell_type": "code",
   "execution_count": 14,
   "id": "7864cbbe-b710-4083-b35e-7056e616f1e4",
   "metadata": {},
   "outputs": [
    {
     "data": {
      "text/plain": [
       "'January'"
      ]
     },
     "execution_count": 14,
     "metadata": {},
     "output_type": "execute_result"
    }
   ],
   "source": [
    "# List values can be changed and they are ordered\n",
    "months = [\"January\", \"February\", \"March\"]\n",
    "months[0]"
   ]
  },
  {
   "cell_type": "code",
   "execution_count": 16,
   "id": "62ac679e-400d-4301-9ec4-60fcb4e3cf40",
   "metadata": {},
   "outputs": [
    {
     "data": {
      "text/plain": [
       "'coffee'"
      ]
     },
     "execution_count": 16,
     "metadata": {},
     "output_type": "execute_result"
    }
   ],
   "source": [
    "# Types are ordered but unchangeable (immutable)\n",
    "breakfast_tuple = (\"coffee\", \"bagels\", \"cereal\")\n",
    "breakfast_tuple[0]"
   ]
  },
  {
   "cell_type": "code",
   "execution_count": 17,
   "id": "f035e578-8cdd-484f-9b9e-729f8b95f7f7",
   "metadata": {},
   "outputs": [
    {
     "name": "stdout",
     "output_type": "stream",
     "text": [
      "3\n"
     ]
    }
   ],
   "source": [
    "print(len(breakfast_tuple)) # length is 3 because there are 3 items, but we start counting at 0"
   ]
  },
  {
   "cell_type": "code",
   "execution_count": 18,
   "id": "396b5814-3d32-4d02-b312-d65ffa4b763a",
   "metadata": {},
   "outputs": [
    {
     "name": "stdout",
     "output_type": "stream",
     "text": [
      "('a', 'b')\n"
     ]
    }
   ],
   "source": [
    "# slicing slice(start, end, step)\n",
    "letters_tuple = (\"a\",\"b\",\"c\",\"d\",\"e\")\n",
    "x = slice(0,2)  #x = slice(2)\n",
    "print(letters_tuple[x])"
   ]
  },
  {
   "cell_type": "code",
   "execution_count": 19,
   "id": "5e12c54d-5e51-4539-8d65-9d17dfbdd218",
   "metadata": {},
   "outputs": [
    {
     "data": {
      "text/plain": [
       "('a', 'b')"
      ]
     },
     "execution_count": 19,
     "metadata": {},
     "output_type": "execute_result"
    }
   ],
   "source": [
    "letters_tuple[0:2]"
   ]
  },
  {
   "cell_type": "code",
   "execution_count": 21,
   "id": "5dd7d8e4-ba7a-4767-afde-6bbc358d3b8c",
   "metadata": {},
   "outputs": [
    {
     "name": "stdout",
     "output_type": "stream",
     "text": [
      "('a', 'c', 'e')\n"
     ]
    }
   ],
   "source": [
    "y = slice(0,5,2)\n",
    "print(letters_tuple[y])"
   ]
  },
  {
   "cell_type": "code",
   "execution_count": null,
   "id": "223aa02f-1e77-495c-a48c-c46246625923",
   "metadata": {},
   "outputs": [],
   "source": []
  }
 ],
 "metadata": {
  "kernelspec": {
   "display_name": "Python 3 (ipykernel)",
   "language": "python",
   "name": "python3"
  },
  "language_info": {
   "codemirror_mode": {
    "name": "ipython",
    "version": 3
   },
   "file_extension": ".py",
   "mimetype": "text/x-python",
   "name": "python",
   "nbconvert_exporter": "python",
   "pygments_lexer": "ipython3",
   "version": "3.9.1"
  }
 },
 "nbformat": 4,
 "nbformat_minor": 5
}
