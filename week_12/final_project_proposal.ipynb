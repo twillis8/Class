{
 "cells": [
  {
   "cell_type": "markdown",
   "metadata": {},
   "source": [
    "## Final Project Proposal\n",
    "I'm working alone on the final project. I'm dedidacting time outside of class and try to finish the \n",
    "project a few weeks before I present it. I will be using the mental health dataset. For the mental\n",
    "health dataset, there will be no difference in the growing stress based on timestamp, gender, country, family_history, \n",
    "days_indoors, and changes_habits(null hypothesis). For the mental health dataset, there will be a \n",
    "difference in growing stress occupation, and self-employed.. I plan on using Logistics Regression\n",
    "and Oversampling for my data.\n",
    "\n",
    "link: https://www.kaggle.com/datasets/bhavikjikadara/mental-health-dataset\n"
   ]
  }
 ],
 "metadata": {
  "language_info": {
   "name": "python"
  }
 },
 "nbformat": 4,
 "nbformat_minor": 2
}
