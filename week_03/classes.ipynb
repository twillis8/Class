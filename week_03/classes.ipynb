{
 "cells": [
  {
   "cell_type": "markdown",
   "id": "0b92f6e7-a28e-41b8-8372-54c04961f24b",
   "metadata": {},
   "source": [
    "# Constructors\n",
    "__init__ (__ is dunder)\n",
    "SELF is a default variable that contains the memory address of the current code youre working in."
   ]
  },
  {
   "cell_type": "code",
   "execution_count": 1,
   "id": "475fd87d-8c41-4350-a964-617734b5d751",
   "metadata": {},
   "outputs": [
    {
     "name": "stdout",
     "output_type": "stream",
     "text": [
      "0\n"
     ]
    }
   ],
   "source": [
    "class a_sample_class:\n",
    "    #default/basic constructor\n",
    "    def __init__(self):\n",
    "        self.var = 0\n",
    "\n",
    "    #an instance method for printing\n",
    "    def print_vars(self):\n",
    "        print(self.var)\n",
    "\n",
    "#create instance of a class\n",
    "obj = a_sample_class()\n",
    "\n",
    "obj.print_vars()"
   ]
  },
  {
   "cell_type": "code",
   "execution_count": 2,
   "id": "50e9eb76-30ad-4c8f-afa2-6323a130da96",
   "metadata": {},
   "outputs": [
    {
     "name": "stdout",
     "output_type": "stream",
     "text": [
      "2\n"
     ]
    }
   ],
   "source": [
    "class a_sample_class:\n",
    "    #parameterized constructor\n",
    "    def __init__(self, one, two):\n",
    "        self.first = one\n",
    "\n",
    "    #an instance method for printing\n",
    "    def print_vars(self):\n",
    "        print(self.first)\n",
    "\n",
    "obj = a_sample_class(2,8)\n",
    "obj.print_vars()"
   ]
  },
  {
   "cell_type": "markdown",
   "id": "471d7edb-d7be-4a78-8b18-4baa698de9ce",
   "metadata": {},
   "source": [
    "# Instance Attributes and Class Attributes\n",
    "2 scopes for attributes\n",
    "\n",
    "instance attribute = variable that belongs to a specific instance or instantiation. Defined inside the constructor (init). Can access from the scope of an object (local)\n",
    "\n",
    "Class attribute = type of variable that belongs to the class itself. Defined outside the constructor. Similar to static attributes in Java (not exactly the same). Both a property of a class AND a property of the object. We can mutate a class attribute to be an instance attribute. "
   ]
  },
  {
   "cell_type": "code",
   "execution_count": 3,
   "id": "4b0007af-a46a-46eb-a915-2667b0553f23",
   "metadata": {},
   "outputs": [
    {
     "name": "stdout",
     "output_type": "stream",
     "text": [
      "Help on a_sample_class in module __main__ object:\n",
      "\n",
      "class a_sample_class(builtins.object)\n",
      " |  a_sample_class(one, two)\n",
      " |  \n",
      " |  Methods defined here:\n",
      " |  \n",
      " |  __init__(self, one, two)\n",
      " |      Initialize self.  See help(type(self)) for accurate signature.\n",
      " |  \n",
      " |  print_vars(self)\n",
      " |      #an instance method for printing\n",
      " |  \n",
      " |  ----------------------------------------------------------------------\n",
      " |  Data descriptors defined here:\n",
      " |  \n",
      " |  __dict__\n",
      " |      dictionary for instance variables (if defined)\n",
      " |  \n",
      " |  __weakref__\n",
      " |      list of weak references to the object (if defined)\n",
      "\n"
     ]
    }
   ],
   "source": [
    "help(obj)"
   ]
  },
  {
   "cell_type": "code",
   "execution_count": 4,
   "id": "38c8e983-d129-4cb5-a3a0-b3fe6cffee8c",
   "metadata": {},
   "outputs": [
    {
     "data": {
      "text/plain": [
       "['In',\n",
       " 'Out',\n",
       " '_',\n",
       " '__',\n",
       " '___',\n",
       " '__builtin__',\n",
       " '__builtins__',\n",
       " '__doc__',\n",
       " '__loader__',\n",
       " '__name__',\n",
       " '__package__',\n",
       " '__session__',\n",
       " '__spec__',\n",
       " '_dh',\n",
       " '_i',\n",
       " '_i1',\n",
       " '_i2',\n",
       " '_i3',\n",
       " '_i4',\n",
       " '_ih',\n",
       " '_ii',\n",
       " '_iii',\n",
       " '_oh',\n",
       " 'a_sample_class',\n",
       " 'exit',\n",
       " 'get_ipython',\n",
       " 'obj',\n",
       " 'open',\n",
       " 'quit']"
      ]
     },
     "execution_count": 4,
     "metadata": {},
     "output_type": "execute_result"
    }
   ],
   "source": [
    "# dir = directory of names in the current local scope\n",
    "dir()"
   ]
  },
  {
   "cell_type": "code",
   "execution_count": 6,
   "id": "96300fc6-d31f-4671-aefb-e9d85472316e",
   "metadata": {},
   "outputs": [
    {
     "data": {
      "text/plain": [
       "{'__name__': '__main__',\n",
       " '__doc__': 'Automatically created module for IPython interactive environment',\n",
       " '__package__': None,\n",
       " '__loader__': None,\n",
       " '__spec__': None,\n",
       " '__builtin__': <module 'builtins' (built-in)>,\n",
       " '__builtins__': <module 'builtins' (built-in)>,\n",
       " '_ih': ['',\n",
       "  'class a_sample_class:\\n    #default/basic constructor\\n    def __init__(self):\\n        self.var = 0\\n\\n    #an instance method for printing\\n    def print_vars(self):\\n        print(self.var)\\n\\n#create instance of a class\\nobj = a_sample_class()\\n\\nobj.print_vars()',\n",
       "  'class a_sample_class:\\n    #parameterized constructor\\n    def __init__(self, one, two):\\n        self.first = one\\n\\n    #an instance method for printing\\n    def print_vars(self):\\n        print(self.first)\\n\\nobj = a_sample_class(2,8)\\nobj.print_vars()',\n",
       "  'help(obj)',\n",
       "  'dir()',\n",
       "  'globals()',\n",
       "  '# returns the current module namespace\\n# namespace = mapping between objects and current names. These are defined names,\\n# and they also include information about the objects that each\\n# name references\\nglobals()'],\n",
       " '_oh': {4: ['In',\n",
       "   'Out',\n",
       "   '_',\n",
       "   '__',\n",
       "   '___',\n",
       "   '__builtin__',\n",
       "   '__builtins__',\n",
       "   '__doc__',\n",
       "   '__loader__',\n",
       "   '__name__',\n",
       "   '__package__',\n",
       "   '__session__',\n",
       "   '__spec__',\n",
       "   '_dh',\n",
       "   '_i',\n",
       "   '_i1',\n",
       "   '_i2',\n",
       "   '_i3',\n",
       "   '_i4',\n",
       "   '_ih',\n",
       "   '_ii',\n",
       "   '_iii',\n",
       "   '_oh',\n",
       "   'a_sample_class',\n",
       "   'exit',\n",
       "   'get_ipython',\n",
       "   'obj',\n",
       "   'open',\n",
       "   'quit'],\n",
       "  5: {...}},\n",
       " '_dh': [PosixPath('/Users/lex/Documents/repos/csci_1070_course_materials/csci_1070/week_03')],\n",
       " 'In': ['',\n",
       "  'class a_sample_class:\\n    #default/basic constructor\\n    def __init__(self):\\n        self.var = 0\\n\\n    #an instance method for printing\\n    def print_vars(self):\\n        print(self.var)\\n\\n#create instance of a class\\nobj = a_sample_class()\\n\\nobj.print_vars()',\n",
       "  'class a_sample_class:\\n    #parameterized constructor\\n    def __init__(self, one, two):\\n        self.first = one\\n\\n    #an instance method for printing\\n    def print_vars(self):\\n        print(self.first)\\n\\nobj = a_sample_class(2,8)\\nobj.print_vars()',\n",
       "  'help(obj)',\n",
       "  'dir()',\n",
       "  'globals()',\n",
       "  '# returns the current module namespace\\n# namespace = mapping between objects and current names. These are defined names,\\n# and they also include information about the objects that each\\n# name references\\nglobals()'],\n",
       " 'Out': {4: ['In',\n",
       "   'Out',\n",
       "   '_',\n",
       "   '__',\n",
       "   '___',\n",
       "   '__builtin__',\n",
       "   '__builtins__',\n",
       "   '__doc__',\n",
       "   '__loader__',\n",
       "   '__name__',\n",
       "   '__package__',\n",
       "   '__session__',\n",
       "   '__spec__',\n",
       "   '_dh',\n",
       "   '_i',\n",
       "   '_i1',\n",
       "   '_i2',\n",
       "   '_i3',\n",
       "   '_i4',\n",
       "   '_ih',\n",
       "   '_ii',\n",
       "   '_iii',\n",
       "   '_oh',\n",
       "   'a_sample_class',\n",
       "   'exit',\n",
       "   'get_ipython',\n",
       "   'obj',\n",
       "   'open',\n",
       "   'quit'],\n",
       "  5: {...}},\n",
       " 'get_ipython': <bound method InteractiveShell.get_ipython of <ipykernel.zmqshell.ZMQInteractiveShell object at 0x106aa77d0>>,\n",
       " 'exit': <IPython.core.autocall.ZMQExitAutocall at 0x106ac4390>,\n",
       " 'quit': <IPython.core.autocall.ZMQExitAutocall at 0x106ac4390>,\n",
       " 'open': <function io.open(file, mode='r', buffering=-1, encoding=None, errors=None, newline=None, closefd=True, opener=None)>,\n",
       " '_': {...},\n",
       " '__': ['In',\n",
       "  'Out',\n",
       "  '_',\n",
       "  '__',\n",
       "  '___',\n",
       "  '__builtin__',\n",
       "  '__builtins__',\n",
       "  '__doc__',\n",
       "  '__loader__',\n",
       "  '__name__',\n",
       "  '__package__',\n",
       "  '__session__',\n",
       "  '__spec__',\n",
       "  '_dh',\n",
       "  '_i',\n",
       "  '_i1',\n",
       "  '_i2',\n",
       "  '_i3',\n",
       "  '_i4',\n",
       "  '_ih',\n",
       "  '_ii',\n",
       "  '_iii',\n",
       "  '_oh',\n",
       "  'a_sample_class',\n",
       "  'exit',\n",
       "  'get_ipython',\n",
       "  'obj',\n",
       "  'open',\n",
       "  'quit'],\n",
       " '___': '',\n",
       " '__session__': '/Users/lex/Documents/repos/csci_1070_course_materials/csci_1070/week_03/Untitled.ipynb',\n",
       " '_i': 'globals()',\n",
       " '_ii': 'dir()',\n",
       " '_iii': 'help(obj)',\n",
       " '_i1': 'class a_sample_class:\\n    #default/basic constructor\\n    def __init__(self):\\n        self.var = 0\\n\\n    #an instance method for printing\\n    def print_vars(self):\\n        print(self.var)\\n\\n#create instance of a class\\nobj = a_sample_class()\\n\\nobj.print_vars()',\n",
       " 'a_sample_class': __main__.a_sample_class,\n",
       " 'obj': <__main__.a_sample_class at 0x106aecbd0>,\n",
       " '_i2': 'class a_sample_class:\\n    #parameterized constructor\\n    def __init__(self, one, two):\\n        self.first = one\\n\\n    #an instance method for printing\\n    def print_vars(self):\\n        print(self.first)\\n\\nobj = a_sample_class(2,8)\\nobj.print_vars()',\n",
       " '_i3': 'help(obj)',\n",
       " '_i4': 'dir()',\n",
       " '_4': ['In',\n",
       "  'Out',\n",
       "  '_',\n",
       "  '__',\n",
       "  '___',\n",
       "  '__builtin__',\n",
       "  '__builtins__',\n",
       "  '__doc__',\n",
       "  '__loader__',\n",
       "  '__name__',\n",
       "  '__package__',\n",
       "  '__session__',\n",
       "  '__spec__',\n",
       "  '_dh',\n",
       "  '_i',\n",
       "  '_i1',\n",
       "  '_i2',\n",
       "  '_i3',\n",
       "  '_i4',\n",
       "  '_ih',\n",
       "  '_ii',\n",
       "  '_iii',\n",
       "  '_oh',\n",
       "  'a_sample_class',\n",
       "  'exit',\n",
       "  'get_ipython',\n",
       "  'obj',\n",
       "  'open',\n",
       "  'quit'],\n",
       " '_i5': 'globals()',\n",
       " '_5': {...},\n",
       " '_i6': '# returns the current module namespace\\n# namespace = mapping between objects and current names. These are defined names,\\n# and they also include information about the objects that each\\n# name references\\nglobals()'}"
      ]
     },
     "execution_count": 6,
     "metadata": {},
     "output_type": "execute_result"
    }
   ],
   "source": [
    "# returns the current module namespace\n",
    "# namespace = mapping between objects and current names. These are defined names,\n",
    "# and they also include information about the objects that each\n",
    "# name references\n",
    "globals()"
   ]
  },
  {
   "cell_type": "code",
   "execution_count": 12,
   "id": "f3dd35bb-2027-46de-8634-de7afb4de553",
   "metadata": {},
   "outputs": [],
   "source": [
    "# Instance, Class, and Static Methods\n",
    "class candy: \n",
    "    #variables that start with a single underscore are\n",
    "    #reserved for internal purposes\n",
    "    def __init__(self,\n",
    "                 _brand,\n",
    "                 _is_caramel=False,\n",
    "                 _has_nuts=False,\n",
    "                 _calories=200,\n",
    "                 _type='chocolate',\n",
    "                 _size='regular'):\n",
    "        self.type=_type\n",
    "        self.brand = _brand\n",
    "        self.is_caramel = _is_caramel\n",
    "        self.calories = _calories\n",
    "        self.has_nuts = _has_nuts\n",
    "        self.size = _size\n",
    "\n",
    "    # instance method - can access and modify both the class\n",
    "    # and instance state\n",
    "    # printing is accessing the state\n",
    "    def display(self):\n",
    "        print(f'My favorite candy is {self.brand} {self.type}')\n",
    "\n",
    "    # class method - used to modify the state of a class (for all instances)\n",
    "    @classmethod\n",
    "    def snickers(cls):\n",
    "        return cls('Snickers',_is_caramel=True,_has_nuts=True)\n",
    "\n",
    "    #static method - used for comparison or validation\n",
    "    #commonly used in data for checking if data meets conditions\n",
    "    # if you want to check the value without needing an instance of it\n",
    "    @staticmethod\n",
    "    def calories(size,n):\n",
    "        if size == 'large':\n",
    "            calories = 500\n",
    "        elif size == 'regular':\n",
    "            calories = 350\n",
    "        elif size == 'funsized':\n",
    "            calories = 100\n",
    "        else:\n",
    "            calories = 0\n",
    "        calories = calories*n\n",
    "        return calories"
   ]
  },
  {
   "cell_type": "code",
   "execution_count": 9,
   "id": "ee7a38bd-7dea-4ae2-9b27-007dd197fa06",
   "metadata": {},
   "outputs": [
    {
     "name": "stdout",
     "output_type": "stream",
     "text": [
      "My favorite candy is Reeses chocolate\n"
     ]
    }
   ],
   "source": [
    "favorite_candy = candy(_brand='Reeses')\n",
    "favorite_candy.display()"
   ]
  },
  {
   "cell_type": "code",
   "execution_count": 11,
   "id": "75294675-03aa-4f54-9136-7b1bf842bcad",
   "metadata": {},
   "outputs": [
    {
     "name": "stdout",
     "output_type": "stream",
     "text": [
      "My favorite candy is Snickers chocolate\n"
     ]
    }
   ],
   "source": [
    "#creater a snickers bar instance\n",
    "snickers_bar = candy.snickers()\n",
    "snickers_bar.display()"
   ]
  },
  {
   "cell_type": "code",
   "execution_count": 13,
   "id": "0aa877b7-120e-4b91-a557-99c7e40997a3",
   "metadata": {},
   "outputs": [
    {
     "data": {
      "text/plain": [
       "4000"
      ]
     },
     "execution_count": 13,
     "metadata": {},
     "output_type": "execute_result"
    }
   ],
   "source": [
    "candy.calories('funsized',40)"
   ]
  },
  {
   "cell_type": "code",
   "execution_count": null,
   "id": "967f7306-fbdf-4a1f-ab71-649ce9c1ea3a",
   "metadata": {},
   "outputs": [],
   "source": []
  }
 ],
 "metadata": {
  "kernelspec": {
   "display_name": "Python 3 (ipykernel)",
   "language": "python",
   "name": "python3"
  },
  "language_info": {
   "codemirror_mode": {
    "name": "ipython",
    "version": 3
   },
   "file_extension": ".py",
   "mimetype": "text/x-python",
   "name": "python",
   "nbconvert_exporter": "python",
   "pygments_lexer": "ipython3",
   "version": "3.11.5"
  }
 },
 "nbformat": 4,
 "nbformat_minor": 5
}
