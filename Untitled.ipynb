{
 "cells": [
  {
   "cell_type": "code",
   "execution_count": null,
   "id": "46434e98-08e4-4a70-961b-e9ee721abf47",
   "metadata": {},
   "outputs": [],
   "source": [
    " num = str(input(\"Enter a number\":))\n",
    "\n"
   ]
  }
 ],
 "metadata": {
  "kernelspec": {
   "display_name": "Python 3 (ipykernel)",
   "language": "python",
   "name": "python3"
  },
  "language_info": {
   "codemirror_mode": {
    "name": "ipython",
    "version": 3
   },
   "file_extension": ".py",
   "mimetype": "text/x-python",
   "name": "python",
   "nbconvert_exporter": "python",
   "pygments_lexer": "ipython3",
   "version": "3.9.1"
  }
 },
 "nbformat": 4,
 "nbformat_minor": 5
}
