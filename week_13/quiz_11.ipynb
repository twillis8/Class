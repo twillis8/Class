{
 "cells": [
  {
   "cell_type": "code",
   "execution_count": 27,
   "metadata": {},
   "outputs": [],
   "source": [
    "def format(list):\n",
    "    new_list = []\n",
    "    for x in list:\n",
    "        if isinstance(x, str):\n",
    "            new_list.append(x)\n",
    "\n",
    "    return new_list\n",
    "\n",
    "\n",
    "\n",
    "list = [1,2,'a','b',7.6]"
   ]
  },
  {
   "cell_type": "code",
   "execution_count": 28,
   "metadata": {},
   "outputs": [
    {
     "data": {
      "text/plain": [
       "['a', 'b']"
      ]
     },
     "execution_count": 28,
     "metadata": {},
     "output_type": "execute_result"
    }
   ],
   "source": [
    "format(list)"
   ]
  },
  {
   "cell_type": "code",
   "execution_count": 29,
   "metadata": {},
   "outputs": [
    {
     "name": "stdout",
     "output_type": "stream",
     "text": [
      "1\n",
      "2\n",
      "fizz\n",
      "4\n",
      "buzz\n",
      "fizz\n",
      "7\n",
      "8\n",
      "fizz\n"
     ]
    }
   ],
   "source": [
    "def fizzbuzz(end):\n",
    "    for num in range (1, end + 1):\n",
    "        if num % 3 == 0 and num % 5 == 0:\n",
    "            print('fizzbuzz')\n",
    "        elif num % 3 == 0:\n",
    "            print('fizz')\n",
    "        elif num % 5 == 0:\n",
    "            print('buzz')\n",
    "        else:\n",
    "            print(num)\n",
    "\n",
    "fizzbuzz(9)"
   ]
  }
 ],
 "metadata": {
  "kernelspec": {
   "display_name": "Python 3",
   "language": "python",
   "name": "python3"
  },
  "language_info": {
   "codemirror_mode": {
    "name": "ipython",
    "version": 3
   },
   "file_extension": ".py",
   "mimetype": "text/x-python",
   "name": "python",
   "nbconvert_exporter": "python",
   "pygments_lexer": "ipython3",
   "version": "3.9.1"
  }
 },
 "nbformat": 4,
 "nbformat_minor": 2
}
